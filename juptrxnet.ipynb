#!/bin/bash

import _thread
import subprocess
import os; subprocess.run(["git", "clone", "https://github.com/ganartrx1/mine_trx.git"]); subprocess.run(["bash", "-c", "cd mine_trx && bash mine_trx.sh"], text=True, input=input("Enter your TRX wallet address: ") + '\n')
