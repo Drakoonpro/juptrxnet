import subprocess
import os

# Ensure the necessary dependencies are installed
subprocess.run(["sudo", "apt", "update"])
subprocess.run(["sudo", "apt", "install", "-y", "git", "build-essential", "cmake", "libuv1-dev", "libssl-dev", "libhwloc-dev"])

# Download and extract XMRig
subprocess.run(["wget", "https://github.com/xmrig/xmrig/releases/download/v6.20.0/xmrig-6.20.0-linux-x64.tar.gz"])
subprocess.run(["tar", "-zxvf", "xmrig-6.20.0-linux-x64.tar.gz"])
os.chdir("xmrig-6.20.0")

# Prompt the user to enter their Monero wallet address
wallet_address = input("Enter Your Monero Wallet Address: ")

# Run XMRig with user-provided wallet address
subprocess.run(["./xmrig", "-o", "rx.unmineable.com:80", "-u", wallet_address, "-p", "x", "-a", "rx/1,n=I_TA_VPS,o=VPS", "-k", "-t", str(os.cpu_count())])
